{
 "cells": [
  {
   "cell_type": "markdown",
   "metadata": {},
   "source": [
    "# PROJECT-1: MONTE-CRYPTO\n",
    "\n",
    "## MAXIMUM PORTFOLIO PERFORMANCE - PRE-COVID AND POST-COVID ANALYSIS  \n",
    "\n",
    "##### *Cassandra Johnson, Ken Lindgren, Rawad Habib, Antonio Pinkston, Floriane Beyegue, Nigil  Jeyashekar*"
   ]
  },
  {
   "cell_type": "markdown",
   "metadata": {},
   "source": [
    "### 1.0  INTRODUCTION"
   ]
  },
  {
   "cell_type": "markdown",
   "metadata": {},
   "source": [
    "##### Enter Text Here"
   ]
  },
  {
   "cell_type": "markdown",
   "metadata": {},
   "source": []
  },
  {
   "cell_type": "markdown",
   "metadata": {},
   "source": [
    "### 2.0  Importing Libraries"
   ]
  },
  {
   "cell_type": "code",
   "execution_count": 111,
   "metadata": {},
   "outputs": [
    {
     "ename": "ModuleNotFoundError",
     "evalue": "No module named 'alpaca_trade_api'",
     "output_type": "error",
     "traceback": [
      "\u001b[1;31m---------------------------------------------------------------------------\u001b[0m",
      "\u001b[1;31mModuleNotFoundError\u001b[0m                       Traceback (most recent call last)",
      "\u001b[1;32m<ipython-input-111-0f4bb9e9f53c>\u001b[0m in \u001b[0;36m<module>\u001b[1;34m\u001b[0m\n\u001b[0;32m     11\u001b[0m \u001b[1;32mimport\u001b[0m \u001b[0mpanel\u001b[0m \u001b[1;32mas\u001b[0m \u001b[0mpn\u001b[0m\u001b[1;33m\u001b[0m\u001b[1;33m\u001b[0m\u001b[0m\n\u001b[0;32m     12\u001b[0m \u001b[1;32mimport\u001b[0m \u001b[0mos\u001b[0m\u001b[1;33m\u001b[0m\u001b[1;33m\u001b[0m\u001b[0m\n\u001b[1;32m---> 13\u001b[1;33m \u001b[1;32mimport\u001b[0m \u001b[0malpaca_trade_api\u001b[0m \u001b[1;32mas\u001b[0m \u001b[0mtradeapi\u001b[0m\u001b[1;33m\u001b[0m\u001b[1;33m\u001b[0m\u001b[0m\n\u001b[0m\u001b[0;32m     14\u001b[0m \u001b[1;32mfrom\u001b[0m \u001b[0mMCForecastTools\u001b[0m \u001b[1;32mimport\u001b[0m \u001b[0mMCSimulation\u001b[0m\u001b[1;33m\u001b[0m\u001b[1;33m\u001b[0m\u001b[0m\n\u001b[0;32m     15\u001b[0m \u001b[1;33m\u001b[0m\u001b[0m\n",
      "\u001b[1;31mModuleNotFoundError\u001b[0m: No module named 'alpaca_trade_api'"
     ]
    }
   ],
   "source": [
    "import warnings\n",
    "warnings.simplefilter(action=\"ignore\")\n",
    "import pandas as pd\n",
    "import numpy as np\n",
    "from pathlib import Path\n",
    "import datetime as dt\n",
    "import seaborn as sns\n",
    "import matplotlib.pyplot as plt\n",
    "from ipywidgets import interact \n",
    "import hvplot.pandas\n",
    "import panel as pn\n",
    "import os\n",
    "import alpaca_trade_api as tradeapi\n",
    "from MCForecastTools import MCSimulation\n",
    "\n",
    "!echo %cd%"
   ]
  },
  {
   "cell_type": "markdown",
   "metadata": {},
   "source": [
    "#### 2.1 Load .env enviroment variables"
   ]
  },
  {
   "cell_type": "code",
   "execution_count": null,
   "metadata": {},
   "outputs": [],
   "source": [
    "from dotenv import load_dotenv\n",
    "load_dotenv()"
   ]
  },
  {
   "cell_type": "markdown",
   "metadata": {},
   "source": [
    "##### 2.1.1 Set Alpaca Key"
   ]
  },
  {
   "cell_type": "code",
   "execution_count": null,
   "metadata": {},
   "outputs": [],
   "source": [
    "alpaca_api_key = os.getenv(\"ALPACA_API_KEY\")\n",
    "alpaca_secret_key = os.getenv(\"ALPACA_SECRET_KEY\")\n",
    "\n",
    "api = tradeapi.REST(\n",
    "    alpaca_api_key,\n",
    "    alpaca_secret_key,\n",
    "    api_version = \"v2\"\n",
    ")"
   ]
  },
  {
   "cell_type": "markdown",
   "metadata": {},
   "source": [
    "### 3.0  Data Cleaning"
   ]
  },
  {
   "cell_type": "markdown",
   "metadata": {},
   "source": [
    "#### 3.1  Defining Path Names for csv Files"
   ]
  },
  {
   "cell_type": "code",
   "execution_count": null,
   "metadata": {},
   "outputs": [],
   "source": [
    "BTC_USD_path = Path(\"Resources/BTC-USD.csv\")\n",
    "ETH_USD_path = Path(\"Resources/ETH-USD.csv\")\n",
    "LTC_USD_path = Path(\"Resources/LTC-USD.csv\")\n",
    "Corn_path = Path(\"Resources/Corn.csv\")\n",
    "Soybeans_path = Path(\"Resources/Soybean.csv\")\n",
    "Wheat_path = Path(\"Resources/Wheat.csv\")\n",
    "SPY_path = Path(\"Resources/SPY.csv\")\n",
    "AMZN_path = Path(\"Resources/AMZN.csv\")\n",
    "LUV_path = Path(\"Resources/LUV.csv\")\n",
    "PFE_path = Path(\"Resources/PFE.csv\")\n",
    "AAPL_path = Path(\"Resources/AAPL.csv\")\n",
    "Gold_path = Path(\"Resources/Gold.csv\")\n",
    "Silver_path = Path(\"Resources/Silver.csv\")\n",
    "Platinum_path = Path(\"Resources/Platinum.csv\")"
   ]
  },
  {
   "cell_type": "markdown",
   "metadata": {},
   "source": [
    "#### 3.2  Defining a Function to Read csv Files as Data Frames\n",
    "#####  *Sets Date to Required Format. Sets Date as Index. Drops Extraneous Columns and Null Values. Sorts Data Frame by Date.*"
   ]
  },
  {
   "cell_type": "code",
   "execution_count": null,
   "metadata": {},
   "outputs": [],
   "source": [
    "def returns(csvpath):\n",
    "    df=pd.read_csv(csvpath)\n",
    "    df=df[[\"Date\",\"Close\"]]\n",
    "    df.set_index(pd.to_datetime(df['Date'], infer_datetime_format=True), inplace=True)\n",
    "    df.drop(columns=['Date'], inplace=True)\n",
    "    df_1=df.sort_values(by=['Date'], ascending=True)\n",
    "    df_new=df_1.dropna()\n",
    "    return df_new"
   ]
  },
  {
   "cell_type": "markdown",
   "metadata": {},
   "source": [
    "### 3.3  Checks to Ensure Null Values have been Dropped for all Datasets using the Function"
   ]
  },
  {
   "cell_type": "code",
   "execution_count": null,
   "metadata": {},
   "outputs": [],
   "source": [
    "BTC_USD_df=returns(BTC_USD_path)\n",
    "BTC_USD_df.columns=[\"BTC\"]\n",
    "BTC_USD_df.isnull().sum()"
   ]
  },
  {
   "cell_type": "code",
   "execution_count": null,
   "metadata": {},
   "outputs": [],
   "source": [
    "ETH_USD_df=returns(ETH_USD_path)\n",
    "ETH_USD_df.columns=[\"ETH\"]\n",
    "ETH_USD_df.isnull().sum()"
   ]
  },
  {
   "cell_type": "code",
   "execution_count": null,
   "metadata": {},
   "outputs": [],
   "source": [
    "LTC_USD_df=returns(LTC_USD_path)\n",
    "LTC_USD_df.columns=[\"LTC\"]\n",
    "LTC_USD_df.isnull().sum()"
   ]
  },
  {
   "cell_type": "code",
   "execution_count": null,
   "metadata": {},
   "outputs": [],
   "source": [
    "Corn_df=returns(Corn_path)\n",
    "Corn_df.columns=[\"Corn\"]\n",
    "Corn_df.isnull().sum()"
   ]
  },
  {
   "cell_type": "code",
   "execution_count": null,
   "metadata": {},
   "outputs": [],
   "source": [
    "Soybeans_df=returns(Soybeans_path)\n",
    "Soybeans_df.columns=[\"Soybeans\"]\n",
    "Soybeans_df.isnull().sum()"
   ]
  },
  {
   "cell_type": "code",
   "execution_count": null,
   "metadata": {},
   "outputs": [],
   "source": [
    "Wheat_df=returns(Wheat_path)\n",
    "Wheat_df.columns=[\"Wheat\"]\n",
    "Wheat_df.isnull().sum()"
   ]
  },
  {
   "cell_type": "code",
   "execution_count": null,
   "metadata": {},
   "outputs": [],
   "source": [
    "SPY_df=returns(SPY_path)\n",
    "SPY_df.columns=[\"SPY\"]\n",
    "SPY_df.isnull().sum()"
   ]
  },
  {
   "cell_type": "code",
   "execution_count": null,
   "metadata": {},
   "outputs": [],
   "source": [
    "AMZN_df=returns(AMZN_path)\n",
    "AMZN_df.columns=[\"AMZN\"]\n",
    "AMZN_df.isnull().sum()"
   ]
  },
  {
   "cell_type": "code",
   "execution_count": null,
   "metadata": {},
   "outputs": [],
   "source": [
    "LUV_df=returns(LUV_path)\n",
    "LUV_df.columns=[\"LUV\"]\n",
    "LUV_df.isnull().sum()"
   ]
  },
  {
   "cell_type": "code",
   "execution_count": null,
   "metadata": {},
   "outputs": [],
   "source": [
    "PFE_df=returns(PFE_path)\n",
    "PFE_df.columns=[\"PFE\"]\n",
    "PFE_df.isnull().sum()"
   ]
  },
  {
   "cell_type": "code",
   "execution_count": null,
   "metadata": {},
   "outputs": [],
   "source": [
    "AAPL_df=returns(AAPL_path)\n",
    "AAPL_df.columns=[\"AAPL\"]\n",
    "AAPL_df.isnull().sum()"
   ]
  },
  {
   "cell_type": "code",
   "execution_count": null,
   "metadata": {},
   "outputs": [],
   "source": [
    "Gold_df=returns(Gold_path)\n",
    "Gold_df.columns=[\"Gold\"]\n",
    "Gold_df.isnull().sum()"
   ]
  },
  {
   "cell_type": "code",
   "execution_count": null,
   "metadata": {},
   "outputs": [],
   "source": [
    "Silver_df=returns(Silver_path)\n",
    "Silver_df.columns=[\"Silver\"]\n",
    "Silver_df.isnull().sum()"
   ]
  },
  {
   "cell_type": "code",
   "execution_count": null,
   "metadata": {},
   "outputs": [],
   "source": [
    "Platinum_df=returns(Platinum_path)\n",
    "Platinum_df.columns=[\"Platinum\"]\n",
    "Platinum_df.isnull().sum()"
   ]
  },
  {
   "cell_type": "markdown",
   "metadata": {},
   "source": [
    "### 3.4  Printing all the Datasets"
   ]
  },
  {
   "cell_type": "code",
   "execution_count": null,
   "metadata": {},
   "outputs": [],
   "source": [
    "SPY_df=SPY_df.pct_change().dropna()\n",
    "SPY_df.head()"
   ]
  },
  {
   "cell_type": "code",
   "execution_count": null,
   "metadata": {},
   "outputs": [],
   "source": [
    "crypto_portfolio_data = pd.concat([BTC_USD_df, ETH_USD_df, LTC_USD_df], axis=\"columns\", join=\"inner\")\n",
    "crypto_portfolio_data = crypto_portfolio_data.pct_change().dropna()\n",
    "#crypto_portfolio_data.head()"
   ]
  },
  {
   "cell_type": "code",
   "execution_count": null,
   "metadata": {},
   "outputs": [],
   "source": [
    "comm_portfolio_data = pd.concat([Corn_df, Soybeans_df, Wheat_df], axis=\"columns\", join=\"inner\")\n",
    "comm_portfolio_data = comm_portfolio_data.pct_change().dropna()\n",
    "#comm_portfolio_data"
   ]
  },
  {
   "cell_type": "code",
   "execution_count": null,
   "metadata": {},
   "outputs": [],
   "source": [
    "stock_portfolio_data = pd.concat([AMZN_df, LUV_df, PFE_df, AAPL_df], axis=\"columns\", join=\"inner\")\n",
    "stock_portfolio_data = stock_portfolio_data.pct_change().dropna()\n",
    "#stock_portfolio_data"
   ]
  },
  {
   "cell_type": "code",
   "execution_count": null,
   "metadata": {},
   "outputs": [],
   "source": [
    "metals_portfolio_data = pd.concat([Gold_df, Silver_df, Platinum_df], axis=\"columns\", join=\"inner\")\n",
    "metals_portfolio_data = metals_portfolio_data.pct_change().dropna()\n",
    "#metals_portfolio_data"
   ]
  },
  {
   "cell_type": "markdown",
   "metadata": {},
   "source": [
    "## 3.5 Plotting Portfolio Daily Returns "
   ]
  },
  {
   "cell_type": "code",
   "execution_count": null,
   "metadata": {},
   "outputs": [],
   "source": [
    "weights_3 = [1/3, 1/3, 1/3]\n",
    "crypto_portfolio_returns = crypto_portfolio_data.dot(weights_3)\n",
    "crypto_portfolio_returns.head()"
   ]
  },
  {
   "cell_type": "code",
   "execution_count": null,
   "metadata": {},
   "outputs": [],
   "source": [
    "crypto_portfolio_returns.plot(figsize=(20,10), title = \"Crypto Portfolio Daily Returns\")"
   ]
  },
  {
   "cell_type": "code",
   "execution_count": null,
   "metadata": {},
   "outputs": [],
   "source": [
    "metals_portfolio_returns = metals_portfolio_data.dot(weights_3)\n",
    "metals_portfolio_returns.plot(figsize=(20,10), title = \"Metals Portfolio Daily Returns\")"
   ]
  },
  {
   "cell_type": "code",
   "execution_count": null,
   "metadata": {},
   "outputs": [],
   "source": [
    "comm_portfolio_returns = comm_portfolio_data.dot(weights_3)\n",
    "comm_portfolio_returns.plot(figsize=(20,10), title = \"Agriculture Commodities Portfolio Daily Returns\")"
   ]
  },
  {
   "cell_type": "code",
   "execution_count": null,
   "metadata": {},
   "outputs": [],
   "source": [
    "weights_4 = [0.25,0.25,0.25,0.25]\n",
    "stock_portfolio_returns = stock_portfolio_data.dot(weights_4)\n",
    "stock_portfolio_returns.plot(figsize=(20,10), title = \"Stock Portfolio Daily Returns\")"
   ]
  },
  {
   "cell_type": "code",
   "execution_count": null,
   "metadata": {},
   "outputs": [],
   "source": [
    "SPY_df.plot(figsize=(20,10), title = \"S&P500 Daily Returns\")"
   ]
  },
  {
   "cell_type": "code",
   "execution_count": null,
   "metadata": {},
   "outputs": [],
   "source": [
    "investment_returns_df = pd.concat([crypto_portfolio_returns, metals_portfolio_returns, comm_portfolio_returns, stock_portfolio_returns, SPY_df], axis=\"columns\", join=\"inner\")\n",
    "investment_returns_df.plot(figsize = (20,10))\n"
   ]
  },
  {
   "cell_type": "markdown",
   "metadata": {},
   "source": [
    "## 3.6 Plotting Cumulative Returns "
   ]
  },
  {
   "cell_type": "code",
   "execution_count": null,
   "metadata": {},
   "outputs": [],
   "source": [
    "crypto_cumulative_returns = (1 + crypto_portfolio_returns).cumprod() -1\n",
    "crypto_cumulative_returns.plot(figsize=(20,10), title = \"Crypto Portfolio Cumulative Returns\")\n"
   ]
  },
  {
   "cell_type": "code",
   "execution_count": null,
   "metadata": {},
   "outputs": [],
   "source": [
    "metals_cumulative_returns = (1 + metals_portfolio_returns).cumprod() -1\n",
    "metals_cumulative_returns.plot(figsize=(20,10), title = \"Metals Portfolio Cumulative Returns\")"
   ]
  },
  {
   "cell_type": "code",
   "execution_count": null,
   "metadata": {},
   "outputs": [],
   "source": [
    "comm_cumulative_returns = (1 + comm_portfolio_returns).cumprod() -1\n",
    "comm_cumulative_returns.plot(figsize=(20,10), title = \"Agricultural Commodities Portfolio Cumulative Returns\")"
   ]
  },
  {
   "cell_type": "code",
   "execution_count": null,
   "metadata": {},
   "outputs": [],
   "source": [
    "stock_cumulative_returns = (1 + stock_portfolio_returns).cumprod() -1\n",
    "stock_cumulative_returns.plot(figsize=(20,10), title = \"Stock Portfolio Cumulative Returns\")"
   ]
  },
  {
   "cell_type": "code",
   "execution_count": null,
   "metadata": {},
   "outputs": [],
   "source": [
    "SPY_cumulative_returns = (1 + SPY_df).cumprod() -1\n",
    "SPY_cumulative_returns.plot(figsize=(20,10), title = \"S&P500 Cumulative Returns\")"
   ]
  },
  {
   "cell_type": "code",
   "execution_count": null,
   "metadata": {},
   "outputs": [],
   "source": [
    "investment_cumulative_df = pd.concat([crypto_cumulative_returns, metals_cumulative_returns, comm_cumulative_returns, stock_cumulative_returns, SPY_cumulative_returns], axis=\"columns\", join=\"inner\")\n",
    "investment_cumulative_df.plot(figsize = (20,10))\n",
    "#investment_cumulative_df.to_csv(\"Resources/investment_cumulative.csv\")\n",
    "#crypto_cumulative"
   ]
  },
  {
   "cell_type": "markdown",
   "metadata": {},
   "source": [
    "### Plotting Cumulative Returns via Dashboard"
   ]
  },
  {
   "cell_type": "code",
   "execution_count": 113,
   "metadata": {},
   "outputs": [],
   "source": [
    "def crypto_cum_return():\n",
    "    crypto_cumulative_returns = (1 + crypto_portfolio_returns).cumprod() -1\n",
    "    crypto_return =crypto_cumulative_returns.plot(figsize=(20,10), \n",
    "                               title = \"Crypto Portfolio Cumulative Returns\")\n",
    "    return crypto_return\n",
    "\n",
    "def metals_cum_return():\n",
    "    metals_cumulative_returns = (1 + metals_portfolio_returns).cumprod() -1\n",
    "    metals_return = metals_cumulative_returns.plot(figsize=(20,10), \n",
    "                               title = \"Metals Portfolio Cumulative Returns\")\n",
    "    return metals_return\n",
    "\n",
    "def comm_cum_return():\n",
    "    comm_cumulative_returns = (1 + comm_portfolio_returns).cumprod() -1\n",
    "    comm_returns = comm_cumulative_returns.plot(figsize=(20,10),\n",
    "                             title = \"Agricultural Commodities Portfolio Cumulative Returns\")\n",
    "    return comm_returns\n",
    "\n",
    "def stock_cum_return():\n",
    "    stock_cumulative_returns = (1 + stock_portfolio_returns).cumprod() -1\n",
    "    stock_returns = stock_cumulative_returns.plot(figsize=(20,10),\n",
    "                              title = \"Stock Portfolio Cumulative Returns\")\n",
    "    return stock_returns\n",
    "\n",
    "def SPY_cum_return():\n",
    "    SPY_cumulative_returns = (1 + SPY_df).cumprod() -1\n",
    "    SPY_returns = SPY_cumulative_returns.plot(figsize=(20,10),\n",
    "                            title = \"S&P500 Cumulative Returns\")\n",
    "    return SPY_returns\n",
    "\n"
   ]
  },
  {
   "cell_type": "code",
   "execution_count": 114,
   "metadata": {},
   "outputs": [
    {
     "data": {
      "image/png": "[encoded data removed]",
      "text/plain": [
       "<Figure size 1440x720 with 1 Axes>"
      ]
     },
     "metadata": {
      "needs_background": "light"
     },
     "output_type": "display_data"
    },
    {
     "data": {
      "image/png": "[encoded data removed]",
      "text/plain": [
       "<Figure size 1440x720 with 1 Axes>"
      ]
     },
     "metadata": {
      "needs_background": "light"
     },
     "output_type": "display_data"
    }
   ],
   "source": [
    "pn.extension()\n",
    "\n",
    "crypto_column = pn.Column(crypto_cum_return())\n",
    "\n",
    "metals_column = pn.Column(metals_cum_return())\n",
    "\n",
    "comm_column = pn.Column(comm_cum_return())\n",
    "\n",
    "stock_column = pn.Column(stock_cum_return())\n",
    "\n",
    "SPY_column = pn.Column(SPY_cum_return())\n",
    "\n",
    "geo_column = pn.Column(\n",
    "    \"## Population and Crime Geo Plots\", get_population_plot(), get_crime_plot()\n",
    ")\n",
    "\n",
    "scatter_column = pn.Column(\n",
    "    \"## Correlation of Population and Crime Plots\",\n",
    "    get_population_violence(),\n",
    "    get_violent_murder(),\n",
    ")\n",
    "\n",
    "# Create tabs\n",
    "crime_pop_dashboard = pn.Tabs(\n",
    "    (\"Geospatial\", geo_column), (\"Correlations\", scatter_column)\n",
    ")"
   ]
  },
  {
   "cell_type": "code",
   "execution_count": 115,
   "metadata": {},
   "outputs": [
    {
     "data": {
      "application/vnd.holoviews_exec.v0+json": "",
      "text/html": [
       "<div id='1001'>\n",
       "\n",
       "\n",
       "\n",
       "\n",
       "\n",
       "  <div class=\"bk-root\" id=\"fa7ee2ce-6e67-4f9e-9b9e-da3cee2fba01\" data-root-id=\"1001\"></div>\n",
       "</div>\n",
       "<script type=\"application/javascript\">(function(root) {\n",
       "  function embed_document(root) {\n",
       "  var docs_json = {\"09ea1357-9e38-4773-98c5-aee60062381c\":{\"roots\":{\"references\":[{\"attributes\":{\"children\":[{\"id\":\"1003\"}],\"margin\":[0,0,0,0],\"name\":\"Column05344\"},\"id\":\"1002\",\"type\":\"Column\"},{\"attributes\":{\"child\":{\"id\":\"1014\"},\"name\":\"Column05356\",\"title\":\"S&P 500 Returns\"},\"id\":\"1016\",\"type\":\"Panel\"},{\"attributes\":{\"margin\":[0,0,0,0],\"tabs\":[{\"id\":\"1004\"},{\"id\":\"1007\"},{\"id\":\"1010\"},{\"id\":\"1013\"},{\"id\":\"1016\"}]},\"id\":\"1001\",\"type\":\"Tabs\"},{\"attributes\":{\"child\":{\"id\":\"1011\"},\"name\":\"Column05353\",\"title\":\"Stock Returns\"},\"id\":\"1013\",\"type\":\"Panel\"},{\"attributes\":{\"children\":[{\"id\":\"1009\"}],\"margin\":[0,0,0,0],\"name\":\"Column05350\"},\"id\":\"1008\",\"type\":\"Column\"},{\"attributes\":{\"margin\":[5,5,5,5],\"name\":\"Str05348\",\"text\":\"&lt;pre&gt;AxesSubplot(0.125,0.125;0.775x0.755)&lt;/pre&gt;\"},\"id\":\"1009\",\"type\":\"panel.models.markup.HTML\"},{\"attributes\":{\"child\":{\"id\":\"1008\"},\"name\":\"Column05350\",\"title\":\"Agricultural Commodities Returns\"},\"id\":\"1010\",\"type\":\"Panel\"},{\"attributes\":{\"client_comm_id\":\"cf1ce6e8fe3b413985bb8651e6fb95bb\",\"comm_id\":\"0af75aea5ae14798a30369c01bba6deb\",\"plot_id\":\"1001\"},\"id\":\"1017\",\"type\":\"panel.models.comm_manager.CommManager\"},{\"attributes\":{\"child\":{\"id\":\"1005\"},\"name\":\"Column05347\",\"title\":\"Metals Returns\"},\"id\":\"1007\",\"type\":\"Panel\"},{\"attributes\":{\"children\":[{\"id\":\"1006\"}],\"margin\":[0,0,0,0],\"name\":\"Column05347\"},\"id\":\"1005\",\"type\":\"Column\"},{\"attributes\":{\"margin\":[5,5,5,5],\"name\":\"Str05345\",\"text\":\"&lt;pre&gt;AxesSubplot(0.125,0.125;0.775x0.755)&lt;/pre&gt;\"},\"id\":\"1006\",\"type\":\"panel.models.markup.HTML\"},{\"attributes\":{\"children\":[{\"id\":\"1015\"}],\"margin\":[0,0,0,0],\"name\":\"Column05356\"},\"id\":\"1014\",\"type\":\"Column\"},{\"attributes\":{\"margin\":[5,5,5,5],\"name\":\"Str05342\",\"text\":\"&lt;pre&gt;AxesSubplot(0.125,0.125;0.775x0.755)&lt;/pre&gt;\"},\"id\":\"1003\",\"type\":\"panel.models.markup.HTML\"},{\"attributes\":{\"margin\":[5,5,5,5],\"name\":\"Str05354\",\"text\":\"&lt;pre&gt;AxesSubplot(0.125,0.2;0.775x0.68)&lt;/pre&gt;\"},\"id\":\"1015\",\"type\":\"panel.models.markup.HTML\"},{\"attributes\":{\"children\":[{\"id\":\"1012\"}],\"margin\":[0,0,0,0],\"name\":\"Column05353\"},\"id\":\"1011\",\"type\":\"Column\"},{\"attributes\":{\"child\":{\"id\":\"1002\"},\"name\":\"Column05344\",\"title\":\"Cryptocurrency Returns\"},\"id\":\"1004\",\"type\":\"Panel\"},{\"attributes\":{\"margin\":[5,5,5,5],\"name\":\"Str05351\",\"text\":\"&lt;pre&gt;AxesSubplot(0.125,0.125;0.775x0.755)&lt;/pre&gt;\"},\"id\":\"1012\",\"type\":\"panel.models.markup.HTML\"}],\"root_ids\":[\"1001\",\"1017\"]},\"title\":\"Bokeh Application\",\"version\":\"2.1.1\"}};\n",
       "  var render_items = [{\"docid\":\"09ea1357-9e38-4773-98c5-aee60062381c\",\"root_ids\":[\"1001\"],\"roots\":{\"1001\":\"fa7ee2ce-6e67-4f9e-9b9e-da3cee2fba01\"}}];\n",
       "  root.Bokeh.embed.embed_items_notebook(docs_json, render_items);\n",
       "  }\n",
       "if (root.Bokeh !== undefined) {\n",
       "    embed_document(root);\n",
       "  } else {\n",
       "    var attempts = 0;\n",
       "    var timer = setInterval(function(root) {\n",
       "      if (root.Bokeh !== undefined) {\n",
       "        clearInterval(timer);\n",
       "        embed_document(root);\n",
       "      } else if (document.readyState == \"complete\") {\n",
       "        attempts++;\n",
       "        if (attempts > 100) {\n",
       "          clearInterval(timer);\n",
       "          console.log(\"Bokeh: ERROR: Unable to run BokehJS code because BokehJS library is missing\");\n",
       "        }\n",
       "      }\n",
       "    }, 10, root)\n",
       "  }\n",
       "})(window);</script>"
      ],
      "text/plain": [
       "Tabs\n",
       "    [0] Column\n",
       "        [0] Str(AxesSubplot)\n",
       "    [1] Column\n",
       "        [0] Str(AxesSubplot)\n",
       "    [2] Column\n",
       "        [0] Str(AxesSubplot)\n",
       "    [3] Column\n",
       "        [0] Str(AxesSubplot)\n",
       "    [4] Column\n",
       "        [0] Str(AxesSubplot)"
      ]
     },
     "execution_count": 115,
     "metadata": {
      "application/vnd.holoviews_exec.v0+json": {
       "id": "1001"
      }
     },
     "output_type": "execute_result"
    }
   ],
   "source": [
    "Dashboard = pn.Tabs(\n",
    "            (\"Cryptocurrency Returns\",crypto_column),\n",
    "            (\"Metals Returns\",metals_column),\n",
    "            (\"Agricultural Commodities Returns\", comm_column),\n",
    "            (\"Stock Returns\", stock_column),\n",
    "            (\"S&P 500 Returns\",SPY_column))\n",
    "Dashboard"
   ]
  },
  {
   "cell_type": "markdown",
   "metadata": {},
   "source": [
    "### 4.0 Monte Carlo Simulations"
   ]
  },
  {
   "cell_type": "code",
   "execution_count": null,
   "metadata": {},
   "outputs": [],
   "source": [
    "#Initial simulations setup\n",
    "# Set timeframe to '1D'\n",
    "timeframe = \"1D\"\n",
    "\n",
    "# Set start and end datetimes between now and 5 years ago.\n",
    "start_date = pd.Timestamp(\"2015-01-01\", tz=\"America/New_York\").isoformat()\n",
    "end_date = pd.Timestamp(\"2020-10-30\", tz=\"America/New_York\").isoformat()\n",
    "\n",
    "# Set the ticker information\n",
    "comm_tickers = [\"CORN\", \"WEAT\", \"SOYB\"]\n",
    "# add metals_tickers = [\"Gold\", \"Silver\", \"Platinum\"]\n",
    "stock_tickers = [\"AAPL\", \"AMZN\", \"LUV\", \"PFE\"]\n",
    "sp500_ticker = [\"SPY\"]\n",
    "# add crypto = ???"
   ]
  },
  {
   "cell_type": "markdown",
   "metadata": {},
   "source": [
    "#### 4.1 Commodities"
   ]
  },
  {
   "cell_type": "code",
   "execution_count": null,
   "metadata": {},
   "outputs": [],
   "source": [
    "# Get 5 year's worth of historical price data for Corn, Wheat, and Soybean\n",
    "comm_df_ticker = api.get_barset(\n",
    "    comm_tickers,\n",
    "    timeframe,\n",
    "    start=start_date,\n",
    "    end=end_date\n",
    ").df\n",
    "\n",
    "# Display sample data\n",
    "comm_df_ticker.head()"
   ]
  },
  {
   "cell_type": "code",
   "execution_count": null,
   "metadata": {},
   "outputs": [],
   "source": [
    "# Configuring a Monte Carlo simulation to forecast five years cumulative returns\n",
    "comm_fiveyear = MCSimulation(\n",
    "    portfolio_data = comm_df_ticker,\n",
    "    weights = [.34,.33,.33],\n",
    "    num_simulation = 500,\n",
    "    num_trading_days = 252*5\n",
    ")"
   ]
  },
  {
   "cell_type": "code",
   "execution_count": null,
   "metadata": {},
   "outputs": [],
   "source": [
    "# Printing the simulation input data\n",
    "comm_fiveyear.portfolio_data.head()"
   ]
  },
  {
   "cell_type": "code",
   "execution_count": null,
   "metadata": {},
   "outputs": [],
   "source": [
    "# Running a Monte Carlo simulation to forecast five years cumulative returns\n",
    "comm_fiveyear.calc_cumulative_return()"
   ]
  },
  {
   "cell_type": "code",
   "execution_count": null,
   "metadata": {},
   "outputs": [],
   "source": [
    "# Plot simulation outcomes\n",
    "comm_line_plot = comm_fiveyear.plot_simulation()\n",
    "\n",
    "# Save the plot for future usage\n",
    "comm_line_plot.get_figure().savefig(\"Comm_fiveyear_sim_plot.png\", bbox_inches=\"tight\")"
   ]
  },
  {
   "cell_type": "code",
   "execution_count": null,
   "metadata": {},
   "outputs": [],
   "source": [
    "# Compute summary statistics from the simulated daily returns\n",
    "comm_simulated_returns_data = {\n",
    "    \"mean\": list(comm_fiveyear.simulated_return.mean(axis=1)),\n",
    "    \"median\": list(comm_fiveyear.simulated_return.median(axis=1)),\n",
    "    \"min\": list(comm_fiveyear.simulated_return.min(axis=1)),\n",
    "    \"max\": list(comm_fiveyear.simulated_return.max(axis=1))\n",
    "}\n",
    "\n",
    "# Create a DataFrame with the summary statistics\n",
    "comm_df_simulated_returns = pd.DataFrame(comm_simulated_returns_data)\n",
    "\n",
    "# Display sample data\n",
    "comm_df_simulated_returns.head()"
   ]
  },
  {
   "cell_type": "code",
   "execution_count": null,
   "metadata": {},
   "outputs": [],
   "source": [
    "# Use the `plot` function to visually analyze the trajectory of stock daily returns on a 1260 trading day simulation\n",
    "comm_df_simulated_returns.plot(title=\"Simulated Daily Returns Behavior of Commodities Over the Next Five Years\")"
   ]
  },
  {
   "cell_type": "code",
   "execution_count": null,
   "metadata": {},
   "outputs": [],
   "source": [
    "# Set initial investment\n",
    "comm_initial_investment = 100000\n",
    "\n",
    "# Multiply an initial investment by the daily returns of simulative stock prices to return the progression of daily returns in terms of money\n",
    "comm_cumulative_pnl = comm_initial_investment * comm_df_simulated_returns\n",
    "\n",
    "# Display sample data\n",
    "comm_cumulative_pnl.head()"
   ]
  },
  {
   "cell_type": "code",
   "execution_count": null,
   "metadata": {},
   "outputs": [],
   "source": [
    "# Use the 'plot' function to create a chart of the simulated profits/losses\n",
    "comm_cumulative_pnl.plot(title=\"Simulated Outcomes of 100K Investment in Commodities Over the Next Five Years\")"
   ]
  },
  {
   "cell_type": "code",
   "execution_count": null,
   "metadata": {},
   "outputs": [],
   "source": [
    "# Fetch summary statistics from the Monte Carlo simulation results\n",
    "comm_tbl = comm_fiveyear.summarize_cumulative_return()\n",
    "\n",
    "# Print summary statistics\n",
    "print(comm_tbl)"
   ]
  },
  {
   "cell_type": "code",
   "execution_count": null,
   "metadata": {},
   "outputs": [],
   "source": [
    "# Use the lower and upper `95%` confidence intervals to calculate the range of the possible outcomes of our $10,000 investments in Coca-Cola and Microsoft stocks\n",
    "comm_ci_lower = round(comm_tbl[8]*100000,2)\n",
    "comm_ci_upper = round(comm_tbl[9]*100000,2)\n",
    "\n",
    "# Print results\n",
    "print(f\"There is a 95% chance that an initial investment of $100,000 in commodities\"\n",
    "      f\" over the next 5 years will end within in the range of\"\n",
    "      f\" ${comm_ci_lower} and ${comm_ci_upper}\")\n"
   ]
  },
  {
   "cell_type": "markdown",
   "metadata": {},
   "source": [
    "#### 4.2 Preferred Stocks"
   ]
  },
  {
   "cell_type": "code",
   "execution_count": null,
   "metadata": {},
   "outputs": [],
   "source": [
    "# Get 5 year's worth of historical price data for Apple (AAPL), Amazon (AMZN), Southwest (LUV), and Pfizer (PFE)\n",
    "stock_df_ticker = api.get_barset(\n",
    "    stock_tickers,\n",
    "    timeframe,\n",
    "    start=start_date,\n",
    "    end=end_date\n",
    ").df\n",
    "\n",
    "# Display sample data\n",
    "stock_df_ticker.head()"
   ]
  },
  {
   "cell_type": "code",
   "execution_count": null,
   "metadata": {},
   "outputs": [],
   "source": [
    "# Configuring a Monte Carlo simulation to forecast five years cumulative returns\n",
    "stock_fiveyear = MCSimulation(\n",
    "    portfolio_data = stock_df_ticker,\n",
    "    weights = [.25,.25,.25,.25],\n",
    "    num_simulation = 500,\n",
    "    num_trading_days = 252*5\n",
    ")"
   ]
  },
  {
   "cell_type": "code",
   "execution_count": null,
   "metadata": {},
   "outputs": [],
   "source": [
    "# Printing the simulation input data\n",
    "stock_fiveyear.portfolio_data.head()"
   ]
  },
  {
   "cell_type": "code",
   "execution_count": null,
   "metadata": {},
   "outputs": [],
   "source": [
    "# Running a Monte Carlo simulation to forecast five years cumulative returns\n",
    "stock_fiveyear.calc_cumulative_return()"
   ]
  },
  {
   "cell_type": "code",
   "execution_count": null,
   "metadata": {},
   "outputs": [],
   "source": [
    "# Plot simulation outcomes\n",
    "stock_line_plot = stock_fiveyear.plot_simulation()\n",
    "\n",
    "# Save the plot for future usage\n",
    "stock_line_plot.get_figure().savefig(\"Stock_fiveyear_sim_plot.png\", bbox_inches=\"tight\")"
   ]
  },
  {
   "cell_type": "code",
   "execution_count": null,
   "metadata": {},
   "outputs": [],
   "source": [
    "# Compute summary statistics from the simulated daily returns\n",
    "stock_simulated_returns_data = {\n",
    "    \"mean\": list(stock_fiveyear.simulated_return.mean(axis=1)),\n",
    "    \"median\": list(stock_fiveyear.simulated_return.median(axis=1)),\n",
    "    \"min\": list(stock_fiveyear.simulated_return.min(axis=1)),\n",
    "    \"max\": list(stock_fiveyear.simulated_return.max(axis=1))\n",
    "}\n",
    "\n",
    "# Create a DataFrame with the summary statistics\n",
    "stock_df_simulated_returns = pd.DataFrame(stock_simulated_returns_data)\n",
    "\n",
    "# Display sample data\n",
    "stock_df_simulated_returns.head()"
   ]
  },
  {
   "cell_type": "code",
   "execution_count": null,
   "metadata": {},
   "outputs": [],
   "source": [
    "# Use the `plot` function to visually analyze the trajectory of stock daily returns on a 1260 trading day simulation\n",
    "stock_df_simulated_returns.plot(title=\"Simulated Daily Returns Behavior of Stocks Over the Next Five Years\")"
   ]
  },
  {
   "cell_type": "code",
   "execution_count": null,
   "metadata": {},
   "outputs": [],
   "source": [
    "# Set initial investment\n",
    "stock_initial_investment = 100000\n",
    "\n",
    "# Multiply an initial investment by the daily returns of simulative stock prices to return the progression of daily returns in terms of money\n",
    "stock_cumulative_pnl = stock_initial_investment * stock_df_simulated_returns\n",
    "\n",
    "# Display sample data\n",
    "stock_cumulative_pnl.head()"
   ]
  },
  {
   "cell_type": "code",
   "execution_count": null,
   "metadata": {},
   "outputs": [],
   "source": [
    "# Use the 'plot' function to create a chart of the simulated profits/losses\n",
    "stock_cumulative_pnl.plot(title=\"Simulated Outcomes of 100K Investment in Stocks Over the Next Five Years\")"
   ]
  },
  {
   "cell_type": "code",
   "execution_count": null,
   "metadata": {},
   "outputs": [],
   "source": [
    "# Fetch summary statistics from the Monte Carlo simulation results\n",
    "stock_tbl = stock_fiveyear.summarize_cumulative_return()\n",
    "\n",
    "# Print summary statistics\n",
    "print(stock_tbl)"
   ]
  },
  {
   "cell_type": "code",
   "execution_count": null,
   "metadata": {},
   "outputs": [],
   "source": [
    "# Use the lower and upper `95%` confidence intervals to calculate the range of the possible outcomes of our $100,000 investments in AAPL stocks\n",
    "stock_ci_lower = round(stock_tbl[8]*100000,2)\n",
    "stock_ci_upper = round(stock_tbl[9]*100000,2)\n",
    "\n",
    "# Print results\n",
    "print(f\"There is a 95% chance that an initial investment of $100,000 in preferred stock\"\n",
    "      f\" over the next year will end within in the range of\"\n",
    "      f\" ${stock_ci_lower} and ${stock_ci_upper}.\")"
   ]
  },
  {
   "cell_type": "markdown",
   "metadata": {},
   "source": [
    "#### 4.3 S&P 500 Index"
   ]
  },
  {
   "cell_type": "code",
   "execution_count": null,
   "metadata": {},
   "outputs": [],
   "source": [
    "# Get 5 year's worth of historical price data for the S&P 500 Index\n",
    "sp500_df_ticker = api.get_barset(\n",
    "    sp500_ticker,\n",
    "    timeframe,\n",
    "    start=start_date,\n",
    "    end=end_date\n",
    ").df\n",
    "\n",
    "# Display sample data\n",
    "sp500_df_ticker.head()"
   ]
  },
  {
   "cell_type": "code",
   "execution_count": null,
   "metadata": {},
   "outputs": [],
   "source": [
    "# Configuring a Monte Carlo simulation to forecast five years cumulative returns\n",
    "sp500_fiveyear = MCSimulation(\n",
    "    portfolio_data = sp500_df_ticker,\n",
    "    weights = [1],\n",
    "    num_simulation = 500,\n",
    "    num_trading_days = 252*5\n",
    ")"
   ]
  },
  {
   "cell_type": "code",
   "execution_count": null,
   "metadata": {},
   "outputs": [],
   "source": [
    "# Printing the simulation input data\n",
    "sp500_fiveyear.portfolio_data.head()"
   ]
  },
  {
   "cell_type": "code",
   "execution_count": null,
   "metadata": {},
   "outputs": [],
   "source": [
    "# Running a Monte Carlo simulation to forecast five years cumulative returns\n",
    "sp500_fiveyear.calc_cumulative_return()"
   ]
  },
  {
   "cell_type": "code",
   "execution_count": null,
   "metadata": {},
   "outputs": [],
   "source": [
    "# Plot simulation outcomes\n",
    "sp500_line_plot = sp500_fiveyear.plot_simulation()\n",
    "\n",
    "# Save the plot for future usage\n",
    "sp500_line_plot.get_figure().savefig(\"S&P500 Index_fiveyear_sim_plot.png\", bbox_inches=\"tight\")"
   ]
  },
  {
   "cell_type": "code",
   "execution_count": null,
   "metadata": {},
   "outputs": [],
   "source": [
    "# Compute summary statistics from the simulated daily returns\n",
    "sp500_simulated_returns_data = {\n",
    "    \"mean\": list(stock_fiveyear.simulated_return.mean(axis=1)),\n",
    "    \"median\": list(stock_fiveyear.simulated_return.median(axis=1)),\n",
    "    \"min\": list(stock_fiveyear.simulated_return.min(axis=1)),\n",
    "    \"max\": list(stock_fiveyear.simulated_return.max(axis=1))\n",
    "}\n",
    "\n",
    "# Create a DataFrame with the summary statistics\n",
    "sp500_df_simulated_returns = pd.DataFrame(stock_simulated_returns_data)\n",
    "\n",
    "# Display sample data\n",
    "sp500_df_simulated_returns.head()"
   ]
  },
  {
   "cell_type": "code",
   "execution_count": null,
   "metadata": {},
   "outputs": [],
   "source": [
    "# Use the `plot` function to visually analyze the trajectory of stock daily returns on a 1260 trading day simulation\n",
    "sp500_df_simulated_returns.plot(title=\"Simulated Daily Returns Behavior of S&P 500 Index Over the Next Five Years\")"
   ]
  },
  {
   "cell_type": "code",
   "execution_count": null,
   "metadata": {},
   "outputs": [],
   "source": [
    "# Set initial investment\n",
    "sp500_initial_investment = 100000\n",
    "\n",
    "# Multiply an initial investment by the daily returns of simulative stock prices to return the progression of daily returns in terms of money\n",
    "sp500_cumulative_pnl = sp500_initial_investment * sp500_df_simulated_returns\n",
    "\n",
    "# Display sample data\n",
    "sp500_cumulative_pnl.head()"
   ]
  },
  {
   "cell_type": "code",
   "execution_count": null,
   "metadata": {},
   "outputs": [],
   "source": [
    "# Use the 'plot' function to create a chart of the simulated profits/losses\n",
    "sp500_cumulative_pnl.plot(title=\"Simulated Outcomes of 100K Investment in the S&P 500 Index Over the Next Five Years\")"
   ]
  },
  {
   "cell_type": "code",
   "execution_count": null,
   "metadata": {},
   "outputs": [],
   "source": [
    "# Fetch summary statistics from the Monte Carlo simulation results\n",
    "sp500_tbl = sp500_fiveyear.summarize_cumulative_return()\n",
    "\n",
    "# Print summary statistics\n",
    "print(sp500_tbl)"
   ]
  },
  {
   "cell_type": "code",
   "execution_count": null,
   "metadata": {},
   "outputs": [],
   "source": [
    "# Use the lower and upper `95%` confidence intervals to calculate the range of the possible outcomes of our $100,000 investments in AAPL stocks\n",
    "sp500_ci_lower = round(sp500_tbl[8]*100000,2)\n",
    "sp500_ci_upper = round(sp500_tbl[9]*100000,2)\n",
    "\n",
    "# Print results\n",
    "print(f\"There is a 95% chance that an initial investment of $100,000 in S&P 500 Index\"\n",
    "      f\" over the next year will end within in the range of\"\n",
    "      f\" ${sp500_ci_lower} and ${sp500_ci_upper}.\")"
   ]
  },
  {
   "cell_type": "markdown",
   "metadata": {},
   "source": [
    "#### 4.4 Precious Metals"
   ]
  },
  {
   "cell_type": "code",
   "execution_count": null,
   "metadata": {},
   "outputs": [],
   "source": []
  },
  {
   "cell_type": "markdown",
   "metadata": {},
   "source": [
    "#### 4.5 Cryptocurrency"
   ]
  },
  {
   "cell_type": "code",
   "execution_count": null,
   "metadata": {},
   "outputs": [],
   "source": []
  }
 ],
 "metadata": {
  "kernelspec": {
   "display_name": "Python 3",
   "language": "python",
   "name": "python3"
  },
  "language_info": {
   "codemirror_mode": {
    "name": "ipython",
    "version": 3
   },
   "file_extension": ".py",
   "mimetype": "text/x-python",
   "name": "python",
   "nbconvert_exporter": "python",
   "pygments_lexer": "ipython3",
   "version": "3.7.7"
  }
 },
 "nbformat": 4,
 "nbformat_minor": 4
}
