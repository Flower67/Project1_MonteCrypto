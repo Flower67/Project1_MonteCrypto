{
 "cells": [
  {
   "cell_type": "markdown",
   "metadata": {},
   "source": [
    "# PROJECT-1: MONTE-CRYPTO\n",
    "\n",
    "## MAXIMUM PORTFOLIO PERFORMANCE - PRE-COVID AND POST-COVID ANALYSIS  \n",
    "\n",
    "##### *Cassandra Johnson, Ken Lindgren, Rawad Habib, Antonio Pinkston, Floriane Beyegue, Nigil  Jeyashekar*"
   ]
  },
  {
   "cell_type": "markdown",
   "metadata": {},
   "source": [
    "### 1.0  INTRODUCTION"
   ]
  },
  {
   "cell_type": "markdown",
   "metadata": {},
   "source": [
    "##### Enter Text Here"
   ]
  },
  {
   "cell_type": "markdown",
   "metadata": {},
   "source": []
  },
  {
   "cell_type": "markdown",
   "metadata": {},
   "source": [
    "### 2.0  Importing Libraries"
   ]
  },
  {
   "cell_type": "code",
   "execution_count": 1,
   "metadata": {},
   "outputs": [
    {
     "name": "stdout",
     "output_type": "stream",
     "text": [
      "%cd%\n"
     ]
    }
   ],
   "source": [
    "import warnings\n",
    "warnings.simplefilter(action=\"ignore\")\n",
    "import pandas as pd\n",
    "import numpy as np\n",
    "from pathlib import Path\n",
    "import datetime as dt\n",
    "import seaborn as sns\n",
    "%matplotlib inline\n",
    "!echo %cd%"
   ]
  },
  {
   "cell_type": "markdown",
   "metadata": {},
   "source": [
    "### 3.0  Data Cleaning"
   ]
  },
  {
   "cell_type": "markdown",
   "metadata": {},
   "source": [
    "#### 3.1  Defining Path Names for csv Files"
   ]
  },
  {
   "cell_type": "code",
   "execution_count": 2,
   "metadata": {},
   "outputs": [],
   "source": [
    "BTC_USD_path = Path(\"Resources/BTC-USD.csv\")\n",
    "ETH_USD_path = Path(\"Resources/ETH-USD.csv\")\n",
    "LTC_USD_path = Path(\"Resources/LTC-USD.csv\")\n",
    "Corn_path = Path(\"Resources/Corn.csv\")\n",
    "Soybeans_path = Path(\"Resources/Soybeans.csv\")\n",
    "Wheat_path = Path(\"Resources/Wheat.csv\")\n",
    "SPY_path = Path(\"Resources/SPY.csv\")\n",
    "AMZN_path = Path(\"Resources/AMZN.csv\")\n",
    "LUV_path = Path(\"Resources/LUV.csv\")\n",
    "PFE_path = Path(\"Resources/PFE.csv\")\n",
    "AAPL_path = Path(\"Resources/AAPL.csv\")\n",
    "Gold_path = Path(\"Resources/Gold.csv\")\n",
    "Silver_path = Path(\"Resources/Silver.csv\")\n",
    "Platinum_path = Path(\"Resources/Platinum.csv\")\n",
    "#df=pd.read_csv(BTC_USD_path)\n",
    "#df1=df[[\"Date\",\"Close\"]]\n",
    "#df1"
   ]
  },
  {
   "cell_type": "markdown",
   "metadata": {},
   "source": [
    "#### 3.2  Defining a Function to Read csv Files as Data Frames\n",
    "#####  *Sets Date to Required Format. Sets Date as Index. Drops Extraneous Columns and Null Values. Sorts Data Frame by Date.*"
   ]
  },
  {
   "cell_type": "code",
   "execution_count": 3,
   "metadata": {},
   "outputs": [],
   "source": [
    "def returns(csvpath):\n",
    "    df=pd.read_csv(csvpath)\n",
    "    df=df[[\"Date\",\"Close\"]]\n",
    "    df.set_index(pd.to_datetime(df['Date'], infer_datetime_format=True), inplace=True)\n",
    "    df.drop(columns=['Date'], inplace=True)\n",
    "    df_1=df.sort_values(by=['Date'], ascending=True)\n",
    "    df_new=df_1.dropna()\n",
    "    return df_new"
   ]
  },
  {
   "cell_type": "markdown",
   "metadata": {},
   "source": [
    "### 3.3  Checks to Ensure Null Values have been Dropped for all Datasets using the Function"
   ]
  },
  {
   "cell_type": "code",
   "execution_count": 4,
   "metadata": {},
   "outputs": [
    {
     "data": {
      "text/plain": [
       "BTC    0\n",
       "dtype: int64"
      ]
     },
     "execution_count": 4,
     "metadata": {},
     "output_type": "execute_result"
    }
   ],
   "source": [
    "BTC_USD_df=returns(BTC_USD_path)\n",
    "BTC_USD_df.columns=[\"BTC\"]\n",
    "BTC_USD_df.isnull().sum()"
   ]
  },
  {
   "cell_type": "code",
   "execution_count": 5,
   "metadata": {},
   "outputs": [
    {
     "data": {
      "text/plain": [
       "ETH    0\n",
       "dtype: int64"
      ]
     },
     "execution_count": 5,
     "metadata": {},
     "output_type": "execute_result"
    }
   ],
   "source": [
    "ETH_USD_df=returns(ETH_USD_path)\n",
    "ETH_USD_df.columns=[\"ETH\"]\n",
    "ETH_USD_df.isnull().sum()"
   ]
  },
  {
   "cell_type": "code",
   "execution_count": 6,
   "metadata": {},
   "outputs": [
    {
     "data": {
      "text/plain": [
       "LTC    0\n",
       "dtype: int64"
      ]
     },
     "execution_count": 6,
     "metadata": {},
     "output_type": "execute_result"
    }
   ],
   "source": [
    "LTC_USD_df=returns(LTC_USD_path)\n",
    "LTC_USD_df.columns=[\"LTC\"]\n",
    "LTC_USD_df.isnull().sum()"
   ]
  },
  {
   "cell_type": "code",
   "execution_count": 7,
   "metadata": {},
   "outputs": [
    {
     "data": {
      "text/plain": [
       "Corn    0\n",
       "dtype: int64"
      ]
     },
     "execution_count": 7,
     "metadata": {},
     "output_type": "execute_result"
    }
   ],
   "source": [
    "Corn_df=returns(Corn_path)\n",
    "Corn_df.columns=[\"Corn\"]\n",
    "Corn_df.isnull().sum()"
   ]
  },
  {
   "cell_type": "code",
   "execution_count": 8,
   "metadata": {},
   "outputs": [
    {
     "data": {
      "text/plain": [
       "Soybeans    0\n",
       "dtype: int64"
      ]
     },
     "execution_count": 8,
     "metadata": {},
     "output_type": "execute_result"
    }
   ],
   "source": [
    "Soybeans_df=returns(Soybeans_path)\n",
    "Soybeans_df.columns=[\"Soybeans\"]\n",
    "Soybeans_df.isnull().sum()"
   ]
  },
  {
   "cell_type": "code",
   "execution_count": 9,
   "metadata": {},
   "outputs": [
    {
     "data": {
      "text/plain": [
       "Wheat    0\n",
       "dtype: int64"
      ]
     },
     "execution_count": 9,
     "metadata": {},
     "output_type": "execute_result"
    }
   ],
   "source": [
    "Wheat_df=returns(Wheat_path)\n",
    "Wheat_df.columns=[\"Wheat\"]\n",
    "Wheat_df.isnull().sum()"
   ]
  },
  {
   "cell_type": "code",
   "execution_count": 10,
   "metadata": {},
   "outputs": [
    {
     "data": {
      "text/plain": [
       "SPY    0\n",
       "dtype: int64"
      ]
     },
     "execution_count": 10,
     "metadata": {},
     "output_type": "execute_result"
    }
   ],
   "source": [
    "SPY_df=returns(SPY_path)\n",
    "SPY_df.columns=[\"SPY\"]\n",
    "SPY_df.isnull().sum()"
   ]
  },
  {
   "cell_type": "code",
   "execution_count": 11,
   "metadata": {},
   "outputs": [
    {
     "data": {
      "text/plain": [
       "AMZN    0\n",
       "dtype: int64"
      ]
     },
     "execution_count": 11,
     "metadata": {},
     "output_type": "execute_result"
    }
   ],
   "source": [
    "AMZN_df=returns(AMZN_path)\n",
    "AMZN_df.columns=[\"AMZN\"]\n",
    "AMZN_df.isnull().sum()"
   ]
  },
  {
   "cell_type": "code",
   "execution_count": 12,
   "metadata": {},
   "outputs": [
    {
     "data": {
      "text/plain": [
       "LUV    0\n",
       "dtype: int64"
      ]
     },
     "execution_count": 12,
     "metadata": {},
     "output_type": "execute_result"
    }
   ],
   "source": [
    "LUV_df=returns(LUV_path)\n",
    "LUV_df.columns=[\"LUV\"]\n",
    "LUV_df.isnull().sum()"
   ]
  },
  {
   "cell_type": "code",
   "execution_count": 13,
   "metadata": {},
   "outputs": [
    {
     "data": {
      "text/plain": [
       "PFE    0\n",
       "dtype: int64"
      ]
     },
     "execution_count": 13,
     "metadata": {},
     "output_type": "execute_result"
    }
   ],
   "source": [
    "PFE_df=returns(PFE_path)\n",
    "PFE_df.columns=[\"PFE\"]\n",
    "PFE_df.isnull().sum()"
   ]
  },
  {
   "cell_type": "code",
   "execution_count": 14,
   "metadata": {},
   "outputs": [
    {
     "data": {
      "text/plain": [
       "AAPL    0\n",
       "dtype: int64"
      ]
     },
     "execution_count": 14,
     "metadata": {},
     "output_type": "execute_result"
    }
   ],
   "source": [
    "AAPL_df=returns(AAPL_path)\n",
    "AAPL_df.columns=[\"AAPL\"]\n",
    "AAPL_df.isnull().sum()"
   ]
  },
  {
   "cell_type": "code",
   "execution_count": 15,
   "metadata": {},
   "outputs": [
    {
     "data": {
      "text/plain": [
       "Gold    0\n",
       "dtype: int64"
      ]
     },
     "execution_count": 15,
     "metadata": {},
     "output_type": "execute_result"
    }
   ],
   "source": [
    "Gold_df=returns(Gold_path)\n",
    "Gold_df.columns=[\"Gold\"]\n",
    "Gold_df.isnull().sum()"
   ]
  },
  {
   "cell_type": "code",
   "execution_count": 16,
   "metadata": {},
   "outputs": [
    {
     "data": {
      "text/plain": [
       "Silver    0\n",
       "dtype: int64"
      ]
     },
     "execution_count": 16,
     "metadata": {},
     "output_type": "execute_result"
    }
   ],
   "source": [
    "Silver_df=returns(Silver_path)\n",
    "Silver_df.columns=[\"Silver\"]\n",
    "Silver_df.isnull().sum()"
   ]
  },
  {
   "cell_type": "code",
   "execution_count": 17,
   "metadata": {},
   "outputs": [
    {
     "data": {
      "text/plain": [
       "Platinum    0\n",
       "dtype: int64"
      ]
     },
     "execution_count": 17,
     "metadata": {},
     "output_type": "execute_result"
    }
   ],
   "source": [
    "Platinum_df=returns(Platinum_path)\n",
    "Platinum_df.columns=[\"Platinum\"]\n",
    "Platinum_df.isnull().sum()"
   ]
  },
  {
   "cell_type": "markdown",
   "metadata": {},
   "source": [
    "### 3.4  Printing all the Datasets"
   ]
  },
  {
   "cell_type": "code",
   "execution_count": 18,
   "metadata": {},
   "outputs": [
    {
     "data": {
      "text/html": [
       "<div>\n",
       "<style scoped>\n",
       "    .dataframe tbody tr th:only-of-type {\n",
       "        vertical-align: middle;\n",
       "    }\n",
       "\n",
       "    .dataframe tbody tr th {\n",
       "        vertical-align: top;\n",
       "    }\n",
       "\n",
       "    .dataframe thead th {\n",
       "        text-align: right;\n",
       "    }\n",
       "</style>\n",
       "<table border=\"1\" class=\"dataframe\">\n",
       "  <thead>\n",
       "    <tr style=\"text-align: right;\">\n",
       "      <th></th>\n",
       "      <th>BTC</th>\n",
       "    </tr>\n",
       "    <tr>\n",
       "      <th>Date</th>\n",
       "      <th></th>\n",
       "    </tr>\n",
       "  </thead>\n",
       "  <tbody>\n",
       "    <tr>\n",
       "      <th>2015-01-02</th>\n",
       "      <td>0.002492</td>\n",
       "    </tr>\n",
       "    <tr>\n",
       "      <th>2015-01-03</th>\n",
       "      <td>-0.107767</td>\n",
       "    </tr>\n",
       "    <tr>\n",
       "      <th>2015-01-04</th>\n",
       "      <td>-0.060079</td>\n",
       "    </tr>\n",
       "    <tr>\n",
       "      <th>2015-01-05</th>\n",
       "      <td>0.038907</td>\n",
       "    </tr>\n",
       "    <tr>\n",
       "      <th>2015-01-06</th>\n",
       "      <td>0.042682</td>\n",
       "    </tr>\n",
       "  </tbody>\n",
       "</table>\n",
       "</div>"
      ],
      "text/plain": [
       "                 BTC\n",
       "Date                \n",
       "2015-01-02  0.002492\n",
       "2015-01-03 -0.107767\n",
       "2015-01-04 -0.060079\n",
       "2015-01-05  0.038907\n",
       "2015-01-06  0.042682"
      ]
     },
     "execution_count": 18,
     "metadata": {},
     "output_type": "execute_result"
    }
   ],
   "source": [
    "BTC_USD_df=BTC_USD_df.pct_change().dropna()\n",
    "BTC_USD_df.head()"
   ]
  },
  {
   "cell_type": "code",
   "execution_count": 19,
   "metadata": {},
   "outputs": [
    {
     "data": {
      "text/html": [
       "<div>\n",
       "<style scoped>\n",
       "    .dataframe tbody tr th:only-of-type {\n",
       "        vertical-align: middle;\n",
       "    }\n",
       "\n",
       "    .dataframe tbody tr th {\n",
       "        vertical-align: top;\n",
       "    }\n",
       "\n",
       "    .dataframe thead th {\n",
       "        text-align: right;\n",
       "    }\n",
       "</style>\n",
       "<table border=\"1\" class=\"dataframe\">\n",
       "  <thead>\n",
       "    <tr style=\"text-align: right;\">\n",
       "      <th></th>\n",
       "      <th>ETH</th>\n",
       "    </tr>\n",
       "    <tr>\n",
       "      <th>Date</th>\n",
       "      <th></th>\n",
       "    </tr>\n",
       "  </thead>\n",
       "  <tbody>\n",
       "    <tr>\n",
       "      <th>2015-08-08</th>\n",
       "      <td>-0.728249</td>\n",
       "    </tr>\n",
       "    <tr>\n",
       "      <th>2015-08-09</th>\n",
       "      <td>-0.068268</td>\n",
       "    </tr>\n",
       "    <tr>\n",
       "      <th>2015-08-10</th>\n",
       "      <td>0.009333</td>\n",
       "    </tr>\n",
       "    <tr>\n",
       "      <th>2015-08-11</th>\n",
       "      <td>0.507323</td>\n",
       "    </tr>\n",
       "    <tr>\n",
       "      <th>2015-08-12</th>\n",
       "      <td>0.140075</td>\n",
       "    </tr>\n",
       "  </tbody>\n",
       "</table>\n",
       "</div>"
      ],
      "text/plain": [
       "                 ETH\n",
       "Date                \n",
       "2015-08-08 -0.728249\n",
       "2015-08-09 -0.068268\n",
       "2015-08-10  0.009333\n",
       "2015-08-11  0.507323\n",
       "2015-08-12  0.140075"
      ]
     },
     "execution_count": 19,
     "metadata": {},
     "output_type": "execute_result"
    }
   ],
   "source": [
    "ETH_USD_df=ETH_USD_df.pct_change().dropna()\n",
    "ETH_USD_df.head()"
   ]
  },
  {
   "cell_type": "code",
   "execution_count": 23,
   "metadata": {},
   "outputs": [
    {
     "data": {
      "text/html": [
       "<div>\n",
       "<style scoped>\n",
       "    .dataframe tbody tr th:only-of-type {\n",
       "        vertical-align: middle;\n",
       "    }\n",
       "\n",
       "    .dataframe tbody tr th {\n",
       "        vertical-align: top;\n",
       "    }\n",
       "\n",
       "    .dataframe thead th {\n",
       "        text-align: right;\n",
       "    }\n",
       "</style>\n",
       "<table border=\"1\" class=\"dataframe\">\n",
       "  <thead>\n",
       "    <tr style=\"text-align: right;\">\n",
       "      <th></th>\n",
       "      <th>BTC</th>\n",
       "      <th>ETH</th>\n",
       "      <th>LTC</th>\n",
       "    </tr>\n",
       "    <tr>\n",
       "      <th>Date</th>\n",
       "      <th></th>\n",
       "      <th></th>\n",
       "      <th></th>\n",
       "    </tr>\n",
       "  </thead>\n",
       "  <tbody>\n",
       "    <tr>\n",
       "      <th>2015-08-09</th>\n",
       "      <td>-1.235475</td>\n",
       "      <td>-0.906257</td>\n",
       "      <td>0.011373</td>\n",
       "    </tr>\n",
       "    <tr>\n",
       "      <th>2015-08-10</th>\n",
       "      <td>-1.147714</td>\n",
       "      <td>-1.136715</td>\n",
       "      <td>0.012900</td>\n",
       "    </tr>\n",
       "    <tr>\n",
       "      <th>2015-08-11</th>\n",
       "      <td>-10.673132</td>\n",
       "      <td>53.356362</td>\n",
       "      <td>0.053349</td>\n",
       "    </tr>\n",
       "    <tr>\n",
       "      <th>2015-08-12</th>\n",
       "      <td>-1.662990</td>\n",
       "      <td>-0.723895</td>\n",
       "      <td>-0.041855</td>\n",
       "    </tr>\n",
       "    <tr>\n",
       "      <th>2015-08-13</th>\n",
       "      <td>-0.418804</td>\n",
       "      <td>2.578383</td>\n",
       "      <td>-0.026373</td>\n",
       "    </tr>\n",
       "    <tr>\n",
       "      <th>...</th>\n",
       "      <td>...</td>\n",
       "      <td>...</td>\n",
       "      <td>...</td>\n",
       "    </tr>\n",
       "    <tr>\n",
       "      <th>2020-10-27</th>\n",
       "      <td>12.091987</td>\n",
       "      <td>-1.845548</td>\n",
       "      <td>0.018861</td>\n",
       "    </tr>\n",
       "    <tr>\n",
       "      <th>2020-10-28</th>\n",
       "      <td>-1.633359</td>\n",
       "      <td>-2.480135</td>\n",
       "      <td>-0.035864</td>\n",
       "    </tr>\n",
       "    <tr>\n",
       "      <th>2020-10-29</th>\n",
       "      <td>-1.447610</td>\n",
       "      <td>-0.869904</td>\n",
       "      <td>-0.017521</td>\n",
       "    </tr>\n",
       "    <tr>\n",
       "      <th>2020-10-30</th>\n",
       "      <td>-0.355977</td>\n",
       "      <td>1.045941</td>\n",
       "      <td>-0.016996</td>\n",
       "    </tr>\n",
       "    <tr>\n",
       "      <th>2020-10-31</th>\n",
       "      <td>1.140952</td>\n",
       "      <td>-1.974103</td>\n",
       "      <td>0.032604</td>\n",
       "    </tr>\n",
       "  </tbody>\n",
       "</table>\n",
       "<p>1911 rows × 3 columns</p>\n",
       "</div>"
      ],
      "text/plain": [
       "                  BTC        ETH       LTC\n",
       "Date                                      \n",
       "2015-08-09  -1.235475  -0.906257  0.011373\n",
       "2015-08-10  -1.147714  -1.136715  0.012900\n",
       "2015-08-11 -10.673132  53.356362  0.053349\n",
       "2015-08-12  -1.662990  -0.723895 -0.041855\n",
       "2015-08-13  -0.418804   2.578383 -0.026373\n",
       "...               ...        ...       ...\n",
       "2020-10-27  12.091987  -1.845548  0.018861\n",
       "2020-10-28  -1.633359  -2.480135 -0.035864\n",
       "2020-10-29  -1.447610  -0.869904 -0.017521\n",
       "2020-10-30  -0.355977   1.045941 -0.016996\n",
       "2020-10-31   1.140952  -1.974103  0.032604\n",
       "\n",
       "[1911 rows x 3 columns]"
      ]
     },
     "execution_count": 23,
     "metadata": {},
     "output_type": "execute_result"
    }
   ],
   "source": [
    "crypto_portfolio_data = pd.concat([BTC_USD_df, ETH_USD_df, LTC_USD_df], axis=\"columns\", join=\"inner\")\n",
    "crypto_portfolio_data = crypto_portfolio_data.pct_change().dropna()\n",
    "crypto_portfolio_data"
   ]
  },
  {
   "cell_type": "code",
   "execution_count": 24,
   "metadata": {},
   "outputs": [
    {
     "data": {
      "text/html": [
       "<div>\n",
       "<style scoped>\n",
       "    .dataframe tbody tr th:only-of-type {\n",
       "        vertical-align: middle;\n",
       "    }\n",
       "\n",
       "    .dataframe tbody tr th {\n",
       "        vertical-align: top;\n",
       "    }\n",
       "\n",
       "    .dataframe thead th {\n",
       "        text-align: right;\n",
       "    }\n",
       "</style>\n",
       "<table border=\"1\" class=\"dataframe\">\n",
       "  <thead>\n",
       "    <tr style=\"text-align: right;\">\n",
       "      <th></th>\n",
       "      <th>Corn</th>\n",
       "      <th>Soybeans</th>\n",
       "      <th>Wheat</th>\n",
       "    </tr>\n",
       "    <tr>\n",
       "      <th>Date</th>\n",
       "      <th></th>\n",
       "      <th></th>\n",
       "      <th></th>\n",
       "    </tr>\n",
       "  </thead>\n",
       "  <tbody>\n",
       "    <tr>\n",
       "      <th>2015-01-05</th>\n",
       "      <td>0.025900</td>\n",
       "      <td>0.037157</td>\n",
       "      <td>0.003788</td>\n",
       "    </tr>\n",
       "    <tr>\n",
       "      <th>2015-01-06</th>\n",
       "      <td>-0.002463</td>\n",
       "      <td>0.010820</td>\n",
       "      <td>-0.008805</td>\n",
       "    </tr>\n",
       "    <tr>\n",
       "      <th>2015-01-07</th>\n",
       "      <td>-0.021605</td>\n",
       "      <td>0.001665</td>\n",
       "      <td>-0.006345</td>\n",
       "    </tr>\n",
       "    <tr>\n",
       "      <th>2015-01-08</th>\n",
       "      <td>-0.005047</td>\n",
       "      <td>-0.007362</td>\n",
       "      <td>-0.025543</td>\n",
       "    </tr>\n",
       "    <tr>\n",
       "      <th>2015-01-09</th>\n",
       "      <td>0.015219</td>\n",
       "      <td>0.006220</td>\n",
       "      <td>0.020970</td>\n",
       "    </tr>\n",
       "    <tr>\n",
       "      <th>...</th>\n",
       "      <td>...</td>\n",
       "      <td>...</td>\n",
       "      <td>...</td>\n",
       "    </tr>\n",
       "    <tr>\n",
       "      <th>2020-10-26</th>\n",
       "      <td>-0.003578</td>\n",
       "      <td>0.003691</td>\n",
       "      <td>-0.011919</td>\n",
       "    </tr>\n",
       "    <tr>\n",
       "      <th>2020-10-27</th>\n",
       "      <td>-0.004189</td>\n",
       "      <td>-0.005056</td>\n",
       "      <td>-0.007238</td>\n",
       "    </tr>\n",
       "    <tr>\n",
       "      <th>2020-10-28</th>\n",
       "      <td>-0.034856</td>\n",
       "      <td>-0.023100</td>\n",
       "      <td>-0.008505</td>\n",
       "    </tr>\n",
       "    <tr>\n",
       "      <th>2020-10-29</th>\n",
       "      <td>-0.007472</td>\n",
       "      <td>-0.005202</td>\n",
       "      <td>0.004902</td>\n",
       "    </tr>\n",
       "    <tr>\n",
       "      <th>2020-10-30</th>\n",
       "      <td>0.000000</td>\n",
       "      <td>0.004516</td>\n",
       "      <td>0.001220</td>\n",
       "    </tr>\n",
       "  </tbody>\n",
       "</table>\n",
       "<p>1437 rows × 3 columns</p>\n",
       "</div>"
      ],
      "text/plain": [
       "                Corn  Soybeans     Wheat\n",
       "Date                                    \n",
       "2015-01-05  0.025900  0.037157  0.003788\n",
       "2015-01-06 -0.002463  0.010820 -0.008805\n",
       "2015-01-07 -0.021605  0.001665 -0.006345\n",
       "2015-01-08 -0.005047 -0.007362 -0.025543\n",
       "2015-01-09  0.015219  0.006220  0.020970\n",
       "...              ...       ...       ...\n",
       "2020-10-26 -0.003578  0.003691 -0.011919\n",
       "2020-10-27 -0.004189 -0.005056 -0.007238\n",
       "2020-10-28 -0.034856 -0.023100 -0.008505\n",
       "2020-10-29 -0.007472 -0.005202  0.004902\n",
       "2020-10-30  0.000000  0.004516  0.001220\n",
       "\n",
       "[1437 rows x 3 columns]"
      ]
     },
     "execution_count": 24,
     "metadata": {},
     "output_type": "execute_result"
    }
   ],
   "source": [
    "comm_portfolio_data = pd.concat([Corn_df, Soybeans_df, Wheat_df], axis=\"columns\", join=\"inner\")\n",
    "comm_portfolio_data = comm_portfolio_data.pct_change().dropna()\n",
    "comm_portfolio_data"
   ]
  },
  {
   "cell_type": "code",
   "execution_count": 25,
   "metadata": {},
   "outputs": [
    {
     "data": {
      "text/html": [
       "<div>\n",
       "<style scoped>\n",
       "    .dataframe tbody tr th:only-of-type {\n",
       "        vertical-align: middle;\n",
       "    }\n",
       "\n",
       "    .dataframe tbody tr th {\n",
       "        vertical-align: top;\n",
       "    }\n",
       "\n",
       "    .dataframe thead th {\n",
       "        text-align: right;\n",
       "    }\n",
       "</style>\n",
       "<table border=\"1\" class=\"dataframe\">\n",
       "  <thead>\n",
       "    <tr style=\"text-align: right;\">\n",
       "      <th></th>\n",
       "      <th>AMZN</th>\n",
       "      <th>LUV</th>\n",
       "      <th>PFE</th>\n",
       "      <th>AAPL</th>\n",
       "    </tr>\n",
       "    <tr>\n",
       "      <th>Date</th>\n",
       "      <th></th>\n",
       "      <th></th>\n",
       "      <th></th>\n",
       "      <th></th>\n",
       "    </tr>\n",
       "  </thead>\n",
       "  <tbody>\n",
       "    <tr>\n",
       "      <th>2015-01-05</th>\n",
       "      <td>-0.020517</td>\n",
       "      <td>-0.024596</td>\n",
       "      <td>-0.005426</td>\n",
       "      <td>-0.028172</td>\n",
       "    </tr>\n",
       "    <tr>\n",
       "      <th>2015-01-06</th>\n",
       "      <td>-0.022833</td>\n",
       "      <td>-0.028338</td>\n",
       "      <td>0.008344</td>\n",
       "      <td>0.000094</td>\n",
       "    </tr>\n",
       "    <tr>\n",
       "      <th>2015-01-07</th>\n",
       "      <td>0.010600</td>\n",
       "      <td>0.008403</td>\n",
       "      <td>0.013686</td>\n",
       "      <td>0.014022</td>\n",
       "    </tr>\n",
       "    <tr>\n",
       "      <th>2015-01-08</th>\n",
       "      <td>0.006836</td>\n",
       "      <td>0.026471</td>\n",
       "      <td>0.020408</td>\n",
       "      <td>0.038422</td>\n",
       "    </tr>\n",
       "    <tr>\n",
       "      <th>2015-01-09</th>\n",
       "      <td>-0.011749</td>\n",
       "      <td>-0.026027</td>\n",
       "      <td>0.004615</td>\n",
       "      <td>0.001073</td>\n",
       "    </tr>\n",
       "    <tr>\n",
       "      <th>...</th>\n",
       "      <td>...</td>\n",
       "      <td>...</td>\n",
       "      <td>...</td>\n",
       "      <td>...</td>\n",
       "    </tr>\n",
       "    <tr>\n",
       "      <th>2020-10-23</th>\n",
       "      <td>0.008815</td>\n",
       "      <td>0.020510</td>\n",
       "      <td>0.020037</td>\n",
       "      <td>-0.006134</td>\n",
       "    </tr>\n",
       "    <tr>\n",
       "      <th>2020-10-26</th>\n",
       "      <td>0.000824</td>\n",
       "      <td>-0.039495</td>\n",
       "      <td>-0.006810</td>\n",
       "      <td>0.000087</td>\n",
       "    </tr>\n",
       "    <tr>\n",
       "      <th>2020-10-27</th>\n",
       "      <td>0.024724</td>\n",
       "      <td>-0.028467</td>\n",
       "      <td>-0.012922</td>\n",
       "      <td>0.013472</td>\n",
       "    </tr>\n",
       "    <tr>\n",
       "      <th>2020-10-28</th>\n",
       "      <td>-0.037595</td>\n",
       "      <td>-0.044828</td>\n",
       "      <td>-0.052899</td>\n",
       "      <td>-0.046312</td>\n",
       "    </tr>\n",
       "    <tr>\n",
       "      <th>2020-10-29</th>\n",
       "      <td>0.015249</td>\n",
       "      <td>0.037493</td>\n",
       "      <td>-0.004796</td>\n",
       "      <td>0.037050</td>\n",
       "    </tr>\n",
       "  </tbody>\n",
       "</table>\n",
       "<p>1467 rows × 4 columns</p>\n",
       "</div>"
      ],
      "text/plain": [
       "                AMZN       LUV       PFE      AAPL\n",
       "Date                                              \n",
       "2015-01-05 -0.020517 -0.024596 -0.005426 -0.028172\n",
       "2015-01-06 -0.022833 -0.028338  0.008344  0.000094\n",
       "2015-01-07  0.010600  0.008403  0.013686  0.014022\n",
       "2015-01-08  0.006836  0.026471  0.020408  0.038422\n",
       "2015-01-09 -0.011749 -0.026027  0.004615  0.001073\n",
       "...              ...       ...       ...       ...\n",
       "2020-10-23  0.008815  0.020510  0.020037 -0.006134\n",
       "2020-10-26  0.000824 -0.039495 -0.006810  0.000087\n",
       "2020-10-27  0.024724 -0.028467 -0.012922  0.013472\n",
       "2020-10-28 -0.037595 -0.044828 -0.052899 -0.046312\n",
       "2020-10-29  0.015249  0.037493 -0.004796  0.037050\n",
       "\n",
       "[1467 rows x 4 columns]"
      ]
     },
     "execution_count": 25,
     "metadata": {},
     "output_type": "execute_result"
    }
   ],
   "source": [
    "stock_portfolio_data = pd.concat([AMZN_df, LUV_df, PFE_df, AAPL_df], axis=\"columns\", join=\"inner\")\n",
    "stock_portfolio_data = stock_portfolio_data.pct_change().dropna()\n",
    "stock_portfolio_data"
   ]
  },
  {
   "cell_type": "code",
   "execution_count": 26,
   "metadata": {},
   "outputs": [
    {
     "data": {
      "text/html": [
       "<div>\n",
       "<style scoped>\n",
       "    .dataframe tbody tr th:only-of-type {\n",
       "        vertical-align: middle;\n",
       "    }\n",
       "\n",
       "    .dataframe tbody tr th {\n",
       "        vertical-align: top;\n",
       "    }\n",
       "\n",
       "    .dataframe thead th {\n",
       "        text-align: right;\n",
       "    }\n",
       "</style>\n",
       "<table border=\"1\" class=\"dataframe\">\n",
       "  <thead>\n",
       "    <tr style=\"text-align: right;\">\n",
       "      <th></th>\n",
       "      <th>Gold</th>\n",
       "      <th>Silver</th>\n",
       "      <th>Platinum</th>\n",
       "    </tr>\n",
       "    <tr>\n",
       "      <th>Date</th>\n",
       "      <th></th>\n",
       "      <th></th>\n",
       "      <th></th>\n",
       "    </tr>\n",
       "  </thead>\n",
       "  <tbody>\n",
       "    <tr>\n",
       "      <th>2015-01-05</th>\n",
       "      <td>0.016721</td>\n",
       "      <td>0.026291</td>\n",
       "      <td>0.008316</td>\n",
       "    </tr>\n",
       "    <tr>\n",
       "      <th>2015-01-06</th>\n",
       "      <td>0.002645</td>\n",
       "      <td>0.021605</td>\n",
       "      <td>0.007010</td>\n",
       "    </tr>\n",
       "    <tr>\n",
       "      <th>2015-01-07</th>\n",
       "      <td>-0.000577</td>\n",
       "      <td>-0.000906</td>\n",
       "      <td>-0.001229</td>\n",
       "    </tr>\n",
       "    <tr>\n",
       "      <th>2015-01-08</th>\n",
       "      <td>-0.003010</td>\n",
       "      <td>-0.010432</td>\n",
       "      <td>-0.000820</td>\n",
       "    </tr>\n",
       "    <tr>\n",
       "      <th>2015-01-09</th>\n",
       "      <td>0.011747</td>\n",
       "      <td>0.009015</td>\n",
       "      <td>0.011490</td>\n",
       "    </tr>\n",
       "    <tr>\n",
       "      <th>...</th>\n",
       "      <td>...</td>\n",
       "      <td>...</td>\n",
       "      <td>...</td>\n",
       "    </tr>\n",
       "    <tr>\n",
       "      <th>2020-10-27</th>\n",
       "      <td>0.001156</td>\n",
       "      <td>-0.001389</td>\n",
       "      <td>0.002852</td>\n",
       "    </tr>\n",
       "    <tr>\n",
       "      <th>2020-10-28</th>\n",
       "      <td>-0.013965</td>\n",
       "      <td>-0.035543</td>\n",
       "      <td>-0.006257</td>\n",
       "    </tr>\n",
       "    <tr>\n",
       "      <th>2020-10-29</th>\n",
       "      <td>-0.006150</td>\n",
       "      <td>-0.006676</td>\n",
       "      <td>-0.025186</td>\n",
       "    </tr>\n",
       "    <tr>\n",
       "      <th>2020-10-30</th>\n",
       "      <td>0.006589</td>\n",
       "      <td>0.064093</td>\n",
       "      <td>0.000000</td>\n",
       "    </tr>\n",
       "    <tr>\n",
       "      <th>2020-10-31</th>\n",
       "      <td>0.000000</td>\n",
       "      <td>0.000000</td>\n",
       "      <td>0.000000</td>\n",
       "    </tr>\n",
       "  </tbody>\n",
       "</table>\n",
       "<p>1701 rows × 3 columns</p>\n",
       "</div>"
      ],
      "text/plain": [
       "                Gold    Silver  Platinum\n",
       "Date                                    \n",
       "2015-01-05  0.016721  0.026291  0.008316\n",
       "2015-01-06  0.002645  0.021605  0.007010\n",
       "2015-01-07 -0.000577 -0.000906 -0.001229\n",
       "2015-01-08 -0.003010 -0.010432 -0.000820\n",
       "2015-01-09  0.011747  0.009015  0.011490\n",
       "...              ...       ...       ...\n",
       "2020-10-27  0.001156 -0.001389  0.002852\n",
       "2020-10-28 -0.013965 -0.035543 -0.006257\n",
       "2020-10-29 -0.006150 -0.006676 -0.025186\n",
       "2020-10-30  0.006589  0.064093  0.000000\n",
       "2020-10-31  0.000000  0.000000  0.000000\n",
       "\n",
       "[1701 rows x 3 columns]"
      ]
     },
     "execution_count": 26,
     "metadata": {},
     "output_type": "execute_result"
    }
   ],
   "source": [
    "metals_portfolio_data = pd.concat([Gold_df, Silver_df, Platinum_df], axis=\"columns\", join=\"inner\")\n",
    "metals_portfolio_data = metals_portfolio_data.pct_change().dropna()\n",
    "metals_portfolio_data"
   ]
  },
  {
   "cell_type": "code",
   "execution_count": null,
   "metadata": {},
   "outputs": [],
   "source": []
  },
  {
   "cell_type": "code",
   "execution_count": null,
   "metadata": {},
   "outputs": [],
   "source": []
  },
  {
   "cell_type": "code",
   "execution_count": null,
   "metadata": {},
   "outputs": [],
   "source": []
  }
 ],
 "metadata": {
  "kernelspec": {
   "display_name": "Python 3",
   "language": "python",
   "name": "python3"
  },
  "language_info": {
   "codemirror_mode": {
    "name": "ipython",
    "version": 3
   },
   "file_extension": ".py",
   "mimetype": "text/x-python",
   "name": "python",
   "nbconvert_exporter": "python",
   "pygments_lexer": "ipython3",
   "version": "3.8.3"
  }
 },
 "nbformat": 4,
 "nbformat_minor": 4
}
