{
 "cells": [
  {
   "cell_type": "code",
   "execution_count": 3,
   "metadata": {},
   "outputs": [],
   "source": [
    "# imports\n",
    "import panel as pn\n",
    "pn.extension('plotly')\n",
    "import plotly.express as px\n",
    "import pandas as pd\n",
    "import hvplot.pandas\n",
    "import matplotlib.pyplot as plt\n",
    "import os\n",
    "from pathlib import Path\n",
    "from dotenv import load_dotenv\n",
    "from panel.interact import interact"
   ]
  },
  {
   "cell_type": "code",
   "execution_count": 4,
   "metadata": {},
   "outputs": [],
   "source": [
    "load_dotenv()\n",
    "mapbox_token = os.getenv(\"MAPBOX_API_KEY\")"
   ]
  },
  {
   "cell_type": "code",
   "execution_count": 8,
   "metadata": {},
   "outputs": [],
   "source": [
    "BTC_USD_path = Path(\"../Resources/BTC_USD.csv\")\n",
    "ETH_USD_path = Path(\"../Resources/ETH_USD.csv\")\n",
    "LTC_USD_path = Path(\"../Resources/LTC_USD.csv\")\n",
    "Corn_path = Path(\"../Resources/Corn.csv\")\n",
    "Soybeans_path = Path(\"../Resources/Soybeans.csv\")\n",
    "Wheat_path = Path(\"../Resources/Wheat.csv\")\n",
    "SPY_path = Path(\"../Resources/SPY.csv\")\n",
    "AMZN_path = Path(\"../Resources/AMZN.csv\")\n",
    "LUV_path = Path(\"../Resources/LUV.csv\")\n",
    "PF_path = Path(\"../Resources/BTC_USD.csv\")\n",
    "BTC_USD_path = Path(\"../Resources/BTC_USD.csv\")"
   ]
  },
  {
   "cell_type": "code",
   "execution_count": null,
   "metadata": {},
   "outputs": [],
   "source": []
  }
 ],
 "metadata": {
  "kernelspec": {
   "display_name": "pyvizenv",
   "language": "python",
   "name": "pyvizenv"
  },
  "language_info": {
   "codemirror_mode": {
    "name": "ipython",
    "version": 3
   },
   "file_extension": ".py",
   "mimetype": "text/x-python",
   "name": "python",
   "nbconvert_exporter": "python",
   "pygments_lexer": "ipython3",
   "version": "3.7.9"
  }
 },
 "nbformat": 4,
 "nbformat_minor": 4
}
